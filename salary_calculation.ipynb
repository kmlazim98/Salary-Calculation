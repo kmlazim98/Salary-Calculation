{
 "cells": [
  {
   "attachments": {},
   "cell_type": "markdown",
   "id": "ed73d491",
   "metadata": {},
   "source": [
    "# Calculating Employee Salaries using Polynomial Linear Regression\n",
    "\n",
    "<IMG src=\"sal.jpg\" width=\"300\" height=\"300\">\n",
    "\n",
    "In this project we are going to build a machine learning model for exact calculation of employee salaries.\n",
    "\n",
    "Polynomial Linear Regression General Formula:\n",
    "\n",
    "y = a + b1*x + b2*x^2 + b3*x^3 + b4*x^4 + ....... + bN*x^N\n"
   ]
  },
  {
   "cell_type": "code",
   "execution_count": 1,
   "id": "211abf15",
   "metadata": {},
   "outputs": [],
   "source": [
    "import pandas as pd\n",
    "import matplotlib.pyplot as plt\n",
    "from sklearn.linear_model import LinearRegression\n",
    "from sklearn.preprocessing import PolynomialFeatures\n",
    "\n",
    "# We import our dataset using pandas into df dataframe..\n",
    "df = pd.read_csv(\"salaries_dataset.csv\",sep = \";\")"
   ]
  },
  {
   "cell_type": "code",
   "execution_count": 2,
   "id": "ef93b415",
   "metadata": {},
   "outputs": [
    {
     "data": {
      "text/html": [
       "<div>\n",
       "<style scoped>\n",
       "    .dataframe tbody tr th:only-of-type {\n",
       "        vertical-align: middle;\n",
       "    }\n",
       "\n",
       "    .dataframe tbody tr th {\n",
       "        vertical-align: top;\n",
       "    }\n",
       "\n",
       "    .dataframe thead th {\n",
       "        text-align: right;\n",
       "    }\n",
       "</style>\n",
       "<table border=\"1\" class=\"dataframe\">\n",
       "  <thead>\n",
       "    <tr style=\"text-align: right;\">\n",
       "      <th></th>\n",
       "      <th>experience_level</th>\n",
       "      <th>salary</th>\n",
       "    </tr>\n",
       "  </thead>\n",
       "  <tbody>\n",
       "    <tr>\n",
       "      <th>0</th>\n",
       "      <td>1</td>\n",
       "      <td>4500</td>\n",
       "    </tr>\n",
       "    <tr>\n",
       "      <th>1</th>\n",
       "      <td>2</td>\n",
       "      <td>5000</td>\n",
       "    </tr>\n",
       "    <tr>\n",
       "      <th>2</th>\n",
       "      <td>3</td>\n",
       "      <td>6000</td>\n",
       "    </tr>\n",
       "    <tr>\n",
       "      <th>3</th>\n",
       "      <td>4</td>\n",
       "      <td>8000</td>\n",
       "    </tr>\n",
       "    <tr>\n",
       "      <th>4</th>\n",
       "      <td>5</td>\n",
       "      <td>11000</td>\n",
       "    </tr>\n",
       "    <tr>\n",
       "      <th>5</th>\n",
       "      <td>6</td>\n",
       "      <td>15000</td>\n",
       "    </tr>\n",
       "    <tr>\n",
       "      <th>6</th>\n",
       "      <td>7</td>\n",
       "      <td>20000</td>\n",
       "    </tr>\n",
       "    <tr>\n",
       "      <th>7</th>\n",
       "      <td>8</td>\n",
       "      <td>30000</td>\n",
       "    </tr>\n",
       "    <tr>\n",
       "      <th>8</th>\n",
       "      <td>9</td>\n",
       "      <td>50000</td>\n",
       "    </tr>\n",
       "    <tr>\n",
       "      <th>9</th>\n",
       "      <td>10</td>\n",
       "      <td>100000</td>\n",
       "    </tr>\n",
       "  </tbody>\n",
       "</table>\n",
       "</div>"
      ],
      "text/plain": [
       "   experience_level  salary\n",
       "0                 1    4500\n",
       "1                 2    5000\n",
       "2                 3    6000\n",
       "3                 4    8000\n",
       "4                 5   11000\n",
       "5                 6   15000\n",
       "6                 7   20000\n",
       "7                 8   30000\n",
       "8                 9   50000\n",
       "9                10  100000"
      ]
     },
     "execution_count": 2,
     "metadata": {},
     "output_type": "execute_result"
    }
   ],
   "source": [
    "df"
   ]
  },
  {
   "cell_type": "code",
   "execution_count": 3,
   "id": "3fec2938",
   "metadata": {},
   "outputs": [
    {
     "data": {
      "image/png": "[encoded data removed]",
      "text/plain": [
       "<Figure size 432x288 with 1 Axes>"
      ]
     },
     "metadata": {
      "needs_background": "light"
     },
     "output_type": "display_data"
    }
   ],
   "source": [
    "\n",
    "# Veri setimize bir bakalım\n",
    "plt.scatter(df['experience_level'],df['salary'])\n",
    "plt.xlabel('Experience level')\n",
    "plt.ylabel('Salary')\n",
    "plt.savefig('1.png', dpi=300)  # You can save the figure if you want!\n",
    "plt.show()"
   ]
  },
  {
   "cell_type": "code",
   "execution_count": 6,
   "id": "14a04724",
   "metadata": {},
   "outputs": [
    {
     "data": {
      "image/png": "[encoded data removed]",
      "text/plain": [
       "<Figure size 432x288 with 1 Axes>"
      ]
     },
     "metadata": {
      "needs_background": "light"
     },
     "output_type": "display_data"
    }
   ],
   "source": [
    "# As you can see data is not distributed linearly..\n",
    "# If we apply linear regression to the dataset we see an incorrect model graph, let's see:\n",
    "\n",
    "reg = LinearRegression()\n",
    "reg.fit(df[['experience_level']],df['salary'])\n",
    "\n",
    "plt.xlabel('Experience Level)')\n",
    "plt.ylabel('Salary')\n",
    "\n",
    "plt.scatter(df['experience_level'],df['salary'])   \n",
    "\n",
    "xekseni = df['experience_level']\n",
    "yekseni = reg.predict(df[['experience_level']])\n",
    "plt.plot(xekseni, yekseni,color= \"green\", label = \"linear regression\")\n",
    "plt.legend()\n",
    "plt.show()"
   ]
  },
  {
   "cell_type": "markdown",
   "id": "7fd6d0ec",
   "metadata": {},
   "source": [
    "#### Very bad model prediction, so: It is not correct to apply linear regression for this dataset. Remember, you will choose a model according to your data set! \n",
    "\n",
    "#### First of all, you should have a very good understanding of your dataset !!!\n"
   ]
  },
  {
   "cell_type": "markdown",
   "id": "ea5bf2bb",
   "metadata": {},
   "source": [
    "### We decided that polynomial regression, one of the regression types, should be applied for this data set. Now let's see how we implement it:"
   ]
  },
  {
   "cell_type": "markdown",
   "id": "45d9b774",
   "metadata": {},
   "source": [
    "We adapt our x value to fit the polynomial function above\n",
    "\n",
    "So => 1, x, x^2 (N=2) "
   ]
  },
  {
   "cell_type": "code",
   "execution_count": 13,
   "id": "fab371e1",
   "metadata": {},
   "outputs": [],
   "source": [
    "# We call the PolynomialFeatures function to create a polynomial regression object.\n",
    "# We specify the degree (N) of the polynomial when calling this function:\n",
    "polynomial_regression = PolynomialFeatures(degree = 4)\n",
    "\n",
    "x_polynomial = polynomial_regression.fit_transform(df[['experience_level']])\n",
    "\n"
   ]
  },
  {
   "cell_type": "code",
   "execution_count": 14,
   "id": "67daac47",
   "metadata": {},
   "outputs": [
    {
     "data": {
      "text/plain": [
       "LinearRegression()"
      ]
     },
     "execution_count": 14,
     "metadata": {},
     "output_type": "execute_result"
    }
   ],
   "source": [
    "# We fit the x_polynomial and y axes by creating our reg object, which is our regression model object,\n",
    "# and calling its fit method.\n",
    "# So we train our regression model with data:\n",
    "reg = LinearRegression()\n",
    "reg.fit(x_polynomial,df['salary'])\n",
    "\n"
   ]
  },
  {
   "cell_type": "markdown",
   "id": "26367a07",
   "metadata": {},
   "source": [
    "### Now that our model is ready, let's see how our model generates a result graph based on the available data:"
   ]
  },
  {
   "cell_type": "code",
   "execution_count": 15,
   "id": "6249d0c0",
   "metadata": {},
   "outputs": [
    {
     "data": {
      "image/png": "[encoded data removed]",
      "text/plain": [
       "<Figure size 432x288 with 1 Axes>"
      ]
     },
     "metadata": {
      "needs_background": "light"
     },
     "output_type": "display_data"
    }
   ],
   "source": [
    "y_head = reg.predict(x_polynomial)\n",
    "plt.plot(df['experience_level'],y_head,color= \"red\",label = \"polynomial regression\")\n",
    "plt.legend()\n",
    "\n",
    "# Let's scatter our data set as points and see if it fits polynomial regression:\n",
    "plt.scatter(df['experience_level'],df['salary'])   \n",
    "\n",
    "plt.show()"
   ]
  },
  {
   "cell_type": "markdown",
   "id": "4ddda49d",
   "metadata": {},
   "source": [
    "As you can see, we can say that it definitely fits, polynomial regression is the right choice.\n",
    "Now let's make N=3 or 4 and see if we increase the polynomial degree, will it fit better?"
   ]
  },
  {
   "cell_type": "markdown",
   "id": "746ed716",
   "metadata": {},
   "source": [
    "### Calculate of a new employee who has experience level 4.5 "
   ]
  },
  {
   "cell_type": "code",
   "execution_count": 16,
   "id": "b9ec9e58",
   "metadata": {},
   "outputs": [
    {
     "data": {
      "text/plain": [
       "array([10958.21496212])"
      ]
     },
     "execution_count": 16,
     "metadata": {},
     "output_type": "execute_result"
    }
   ],
   "source": [
    "\n",
    "x_polynomial1 = polynomial_regression.fit_transform([[4.5]])\n",
    "reg.predict(x_polynomial1)"
   ]
  },
  {
   "cell_type": "markdown",
   "id": "a1bccc67",
   "metadata": {},
   "source": [
    "#### The salary he will receive fits the company policy very well ! :)"
   ]
  },
  {
   "cell_type": "code",
   "execution_count": null,
   "id": "674f1fb5",
   "metadata": {},
   "outputs": [],
   "source": []
  },
  {
   "cell_type": "markdown",
   "id": "12c53b9a",
   "metadata": {},
   "source": [
    "So using our new machine learning model, our HR department can easily calculate new employee salaries perfectly."
   ]
  },
  {
   "cell_type": "code",
   "execution_count": null,
   "id": "3a967364",
   "metadata": {},
   "outputs": [],
   "source": []
  },
  {
   "cell_type": "code",
   "execution_count": null,
   "id": "896a7e92",
   "metadata": {},
   "outputs": [],
   "source": []
  },
  {
   "cell_type": "code",
   "execution_count": null,
   "id": "bead8dd5",
   "metadata": {},
   "outputs": [],
   "source": []
  },
  {
   "cell_type": "code",
   "execution_count": null,
   "id": "9f131ae1",
   "metadata": {},
   "outputs": [],
   "source": []
  },
  {
   "cell_type": "code",
   "execution_count": null,
   "id": "0bb1cc24",
   "metadata": {},
   "outputs": [],
   "source": []
  },
  {
   "cell_type": "code",
   "execution_count": null,
   "id": "8c689d99",
   "metadata": {},
   "outputs": [],
   "source": []
  }
 ],
 "metadata": {
  "kernelspec": {
   "display_name": "Python 3",
   "language": "python",
   "name": "python3"
  },
  "language_info": {
   "codemirror_mode": {
    "name": "ipython",
    "version": 3
   },
   "file_extension": ".py",
   "mimetype": "text/x-python",
   "name": "python",
   "nbconvert_exporter": "python",
   "pygments_lexer": "ipython3",
   "version": "3.8.8"
  }
 },
 "nbformat": 4,
 "nbformat_minor": 5
}
